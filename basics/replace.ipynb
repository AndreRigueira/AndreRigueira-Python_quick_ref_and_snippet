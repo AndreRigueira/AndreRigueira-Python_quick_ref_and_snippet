{
 "cells": [
  {
   "cell_type": "markdown",
   "id": "c06ac125",
   "metadata": {},
   "source": [
    "## Usando replace() para Remover Caracteres do Meio\n",
    "A função replace() funciona como um \"substituto\" de texto. Você diz a ela qual caractere ou pedaço de texto você quer encontrar e pelo que você quer substituí-lo."
   ]
  },
  {
   "cell_type": "code",
   "execution_count": 1,
   "id": "aa3a79b2",
   "metadata": {},
   "outputs": [
    {
     "name": "stdout",
     "output_type": "stream",
     "text": [
      "123456789\n"
     ]
    }
   ],
   "source": [
    "numero_com_pontos = '123.456.789'\n",
    "numero_sem_pontos = numero_com_pontos.replace('.', '')\n",
    "print(numero_sem_pontos)"
   ]
  },
  {
   "cell_type": "code",
   "execution_count": 2,
   "id": "48377354",
   "metadata": {},
   "outputs": [
    {
     "name": "stdout",
     "output_type": "stream",
     "text": [
      "12345678910\n"
     ]
    }
   ],
   "source": [
    "numero_com_pontos = '123.456.789-10'\n",
    "numero_sem_pontos = numero_com_pontos.replace('.', '').replace('-','')\n",
    "print(numero_sem_pontos)"
   ]
  }
 ],
 "metadata": {
  "kernelspec": {
   "display_name": "Python 3",
   "language": "python",
   "name": "python3"
  },
  "language_info": {
   "codemirror_mode": {
    "name": "ipython",
    "version": 3
   },
   "file_extension": ".py",
   "mimetype": "text/x-python",
   "name": "python",
   "nbconvert_exporter": "python",
   "pygments_lexer": "ipython3",
   "version": "3.13.3"
  }
 },
 "nbformat": 4,
 "nbformat_minor": 5
}
