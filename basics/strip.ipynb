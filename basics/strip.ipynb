{
 "cells": [
  {
   "cell_type": "markdown",
   "id": "80641786",
   "metadata": {},
   "source": [
    "# Função strip()\n",
    "\n",
    "A principal aplicação do **strip()** é realmente remover espaços em branco do começo e do fim de uma string. Isso é super comum quando você lê dados de um arquivo, de um formulário ou de qualquer outra fonte, e eles vêm com \"sujeirinha\" de espaços sobrando.\n",
    "\n",
    "Além dos Espaços: Removendo Outros Caracteres Específicos\n",
    "Mas o strip() não serve apenas para espaços! Você pode dizer a ele quais caracteres específicos você quer que ele remova do início e do fim da string.\n",
    "\n",
    "Imagine que você tem uma lista de produtos e, por algum motivo, alguns nomes vêm com traços ou asteriscos indesejados nas pontas, tipo \"--Produto A--\" ou \"**Item B**\". Você pode usar o strip() para tirar isso!"
   ]
  },
  {
   "cell_type": "code",
   "execution_count": 5,
   "id": "fee31c4c",
   "metadata": {},
   "outputs": [
    {
     "name": "stdout",
     "output_type": "stream",
     "text": [
      "Exemplo de Texto\n",
      "Nome do Arquivo\n"
     ]
    }
   ],
   "source": [
    "texto_com_simbolos = \"**Exemplo de Texto**\"\n",
    "texto_limpo_simbolos = texto_com_simbolos.strip('*') # Remove asteriscos do começo e do fim\n",
    "print(texto_limpo_simbolos)\n",
    "\n",
    "texto_com_hifens = \"---Nome do Arquivo---\"\n",
    "texto_limpo_hifens = texto_com_hifens.strip('-') # Remove hífens do começo e do fim\n",
    "print(texto_limpo_hifens)"
   ]
  },
  {
   "cell_type": "markdown",
   "id": "e6a37a31",
   "metadata": {},
   "source": [
    "lstrip() e rstrip(): Remover de um Lado Só\n",
    "E se você quiser remover caracteres apenas de um lado da string? O Python tem variações do strip() para isso:\n",
    "\n",
    "**lstrip()**: Remove caracteres apenas do lado esquerdo (início) da string. (\"l\" de \"left\" - esquerdo).\n",
    "\n",
    "**rstrip()**: Remove caracteres apenas do lado direito (fim) da string. (\"r\" de \"right\" - direito)."
   ]
  },
  {
   "cell_type": "code",
   "execution_count": 6,
   "id": "5811268d",
   "metadata": {},
   "outputs": [
    {
     "name": "stdout",
     "output_type": "stream",
     "text": [
      "Sem hífens no início: Informação Importante---\n",
      "Sem hífens no final: ---Informação Importante\n"
     ]
    }
   ],
   "source": [
    "texto_variado = \"---Informação Importante---\"\n",
    "\n",
    "# Remove apenas os hífens do começo\n",
    "sem_hifens_inicio = texto_variado.lstrip('-')\n",
    "print(f\"Sem hífens no início: {sem_hifens_inicio}\")\n",
    "\n",
    "# Remove apenas os hífens do final\n",
    "sem_hifens_final = texto_variado.rstrip('-')\n",
    "print(f\"Sem hífens no final: {sem_hifens_final}\")"
   ]
  }
 ],
 "metadata": {
  "kernelspec": {
   "display_name": "Python 3",
   "language": "python",
   "name": "python3"
  },
  "language_info": {
   "codemirror_mode": {
    "name": "ipython",
    "version": 3
   },
   "file_extension": ".py",
   "mimetype": "text/x-python",
   "name": "python",
   "nbconvert_exporter": "python",
   "pygments_lexer": "ipython3",
   "version": "3.13.3"
  }
 },
 "nbformat": 4,
 "nbformat_minor": 5
}
